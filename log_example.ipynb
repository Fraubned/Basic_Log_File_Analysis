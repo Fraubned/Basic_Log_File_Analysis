{
 "cells": [
  {
   "cell_type": "code",
   "execution_count": 2,
   "metadata": {},
   "outputs": [],
   "source": [
    "#Kullanılacak gerekli kütüphanelerin kurulumu\n",
    "import numpy as np\n",
    "import pandas as pd\n",
    "from datetime import datetime\n",
    "\n",
    "import matplotlib.pyplot as plt\n",
    "import seaborn as sns\n",
    "\n",
    "import os \n",
    "for dirname , _ , filenames in os.walk('/staj'):\n",
    "    for filename in filenames:\n",
    "        print(os.path.join(dirname,filename))"
   ]
  },
  {
   "cell_type": "code",
   "execution_count": 3,
   "metadata": {},
   "outputs": [
    {
     "data": {
      "text/html": [
       "<div>\n",
       "<style scoped>\n",
       "    .dataframe tbody tr th:only-of-type {\n",
       "        vertical-align: middle;\n",
       "    }\n",
       "\n",
       "    .dataframe tbody tr th {\n",
       "        vertical-align: top;\n",
       "    }\n",
       "\n",
       "    .dataframe thead th {\n",
       "        text-align: right;\n",
       "    }\n",
       "</style>\n",
       "<table border=\"1\" class=\"dataframe\">\n",
       "  <thead>\n",
       "    <tr style=\"text-align: right;\">\n",
       "      <th></th>\n",
       "      <th>IP</th>\n",
       "      <th>Time</th>\n",
       "      <th>URL</th>\n",
       "      <th>Staus</th>\n",
       "    </tr>\n",
       "  </thead>\n",
       "  <tbody>\n",
       "    <tr>\n",
       "      <td>0</td>\n",
       "      <td>10.128.2.1</td>\n",
       "      <td>[29/Nov/2017:06:58:55</td>\n",
       "      <td>GET /login.php HTTP/1.1</td>\n",
       "      <td>200</td>\n",
       "    </tr>\n",
       "    <tr>\n",
       "      <td>1</td>\n",
       "      <td>10.128.2.1</td>\n",
       "      <td>[29/Nov/2017:06:59:02</td>\n",
       "      <td>POST /process.php HTTP/1.1</td>\n",
       "      <td>302</td>\n",
       "    </tr>\n",
       "    <tr>\n",
       "      <td>2</td>\n",
       "      <td>10.128.2.1</td>\n",
       "      <td>[29/Nov/2017:06:59:03</td>\n",
       "      <td>GET /home.php HTTP/1.1</td>\n",
       "      <td>200</td>\n",
       "    </tr>\n",
       "    <tr>\n",
       "      <td>3</td>\n",
       "      <td>10.131.2.1</td>\n",
       "      <td>[29/Nov/2017:06:59:04</td>\n",
       "      <td>GET /js/vendor/moment.min.js HTTP/1.1</td>\n",
       "      <td>200</td>\n",
       "    </tr>\n",
       "    <tr>\n",
       "      <td>4</td>\n",
       "      <td>10.130.2.1</td>\n",
       "      <td>[29/Nov/2017:06:59:06</td>\n",
       "      <td>GET /bootstrap-3.3.7/js/bootstrap.js HTTP/1.1</td>\n",
       "      <td>200</td>\n",
       "    </tr>\n",
       "    <tr>\n",
       "      <td>...</td>\n",
       "      <td>...</td>\n",
       "      <td>...</td>\n",
       "      <td>...</td>\n",
       "      <td>...</td>\n",
       "    </tr>\n",
       "    <tr>\n",
       "      <td>16002</td>\n",
       "      <td>10.130.2.1</td>\n",
       "      <td>[02/Mar/2018:15:47:12</td>\n",
       "      <td>GET /showcode.php?id=309&amp;nm=ham05 HTTP/1.1</td>\n",
       "      <td>200</td>\n",
       "    </tr>\n",
       "    <tr>\n",
       "      <td>16003</td>\n",
       "      <td>10.130.2.1</td>\n",
       "      <td>[02/Mar/2018:15:47:23</td>\n",
       "      <td>GET /allsubmission.php HTTP/1.1</td>\n",
       "      <td>200</td>\n",
       "    </tr>\n",
       "    <tr>\n",
       "      <td>16004</td>\n",
       "      <td>10.130.2.1</td>\n",
       "      <td>[02/Mar/2018:15:47:32</td>\n",
       "      <td>GET /showcode.php?id=309&amp;nm=ham05 HTTP/1.1</td>\n",
       "      <td>200</td>\n",
       "    </tr>\n",
       "    <tr>\n",
       "      <td>16005</td>\n",
       "      <td>10.130.2.1</td>\n",
       "      <td>[02/Mar/2018:15:47:35</td>\n",
       "      <td>GET /allsubmission.php HTTP/1.1</td>\n",
       "      <td>200</td>\n",
       "    </tr>\n",
       "    <tr>\n",
       "      <td>16006</td>\n",
       "      <td>10.130.2.1</td>\n",
       "      <td>[02/Mar/2018:15:47:46</td>\n",
       "      <td>GET /home.php HTTP/1.1</td>\n",
       "      <td>200</td>\n",
       "    </tr>\n",
       "  </tbody>\n",
       "</table>\n",
       "<p>16007 rows × 4 columns</p>\n",
       "</div>"
      ],
      "text/plain": [
       "               IP                   Time  \\\n",
       "0      10.128.2.1  [29/Nov/2017:06:58:55   \n",
       "1      10.128.2.1  [29/Nov/2017:06:59:02   \n",
       "2      10.128.2.1  [29/Nov/2017:06:59:03   \n",
       "3      10.131.2.1  [29/Nov/2017:06:59:04   \n",
       "4      10.130.2.1  [29/Nov/2017:06:59:06   \n",
       "...           ...                    ...   \n",
       "16002  10.130.2.1  [02/Mar/2018:15:47:12   \n",
       "16003  10.130.2.1  [02/Mar/2018:15:47:23   \n",
       "16004  10.130.2.1  [02/Mar/2018:15:47:32   \n",
       "16005  10.130.2.1  [02/Mar/2018:15:47:35   \n",
       "16006  10.130.2.1  [02/Mar/2018:15:47:46   \n",
       "\n",
       "                                                 URL Staus  \n",
       "0                            GET /login.php HTTP/1.1   200  \n",
       "1                         POST /process.php HTTP/1.1   302  \n",
       "2                             GET /home.php HTTP/1.1   200  \n",
       "3              GET /js/vendor/moment.min.js HTTP/1.1   200  \n",
       "4      GET /bootstrap-3.3.7/js/bootstrap.js HTTP/1.1   200  \n",
       "...                                              ...   ...  \n",
       "16002     GET /showcode.php?id=309&nm=ham05 HTTP/1.1   200  \n",
       "16003                GET /allsubmission.php HTTP/1.1   200  \n",
       "16004     GET /showcode.php?id=309&nm=ham05 HTTP/1.1   200  \n",
       "16005                GET /allsubmission.php HTTP/1.1   200  \n",
       "16006                         GET /home.php HTTP/1.1   200  \n",
       "\n",
       "[16007 rows x 4 columns]"
      ]
     },
     "execution_count": 3,
     "metadata": {},
     "output_type": "execute_result"
    }
   ],
   "source": [
    "#veriyi okuma\n",
    "data = pd.read_csv('weblog.csv', squeeze = True)\n",
    "data"
   ]
  },
  {
   "cell_type": "code",
   "execution_count": 4,
   "metadata": {},
   "outputs": [
    {
     "data": {
      "text/plain": [
       "IP       object\n",
       "Time     object\n",
       "URL      object\n",
       "Staus    object\n",
       "dtype: object"
      ]
     },
     "execution_count": 4,
     "metadata": {},
     "output_type": "execute_result"
    }
   ],
   "source": [
    "data.dtypes #veri tiplerini görme"
   ]
  },
  {
   "cell_type": "code",
   "execution_count": 5,
   "metadata": {},
   "outputs": [],
   "source": [
    "#Time sütununun okunabilirliğini artırmak için işlemler\n",
    "data['Time']=data['Time'].map(lambda x: x.lstrip('['))\n",
    "data['Time'] = data['Time'].str.split(':',n = 1, expand = True)\n",
    "data['Time'] = pd.to_datetime(data['Time'],format='%d%m%Y', errors='ignore')"
   ]
  },
  {
   "cell_type": "code",
   "execution_count": 6,
   "metadata": {},
   "outputs": [],
   "source": [
    "data = data.rename(columns={'Staus': 'Status'}, index={'ONE': 'one'})"
   ]
  },
  {
   "cell_type": "code",
   "execution_count": 7,
   "metadata": {},
   "outputs": [
    {
     "data": {
      "text/html": [
       "<div>\n",
       "<style scoped>\n",
       "    .dataframe tbody tr th:only-of-type {\n",
       "        vertical-align: middle;\n",
       "    }\n",
       "\n",
       "    .dataframe tbody tr th {\n",
       "        vertical-align: top;\n",
       "    }\n",
       "\n",
       "    .dataframe thead th {\n",
       "        text-align: right;\n",
       "    }\n",
       "</style>\n",
       "<table border=\"1\" class=\"dataframe\">\n",
       "  <thead>\n",
       "    <tr style=\"text-align: right;\">\n",
       "      <th></th>\n",
       "      <th>IP</th>\n",
       "      <th>Time</th>\n",
       "      <th>URL</th>\n",
       "      <th>Status</th>\n",
       "    </tr>\n",
       "  </thead>\n",
       "  <tbody>\n",
       "    <tr>\n",
       "      <td>count</td>\n",
       "      <td>16007</td>\n",
       "      <td>16007</td>\n",
       "      <td>16007</td>\n",
       "      <td>16007</td>\n",
       "    </tr>\n",
       "    <tr>\n",
       "      <td>unique</td>\n",
       "      <td>16</td>\n",
       "      <td>65</td>\n",
       "      <td>314</td>\n",
       "      <td>13</td>\n",
       "    </tr>\n",
       "    <tr>\n",
       "      <td>top</td>\n",
       "      <td>10.128.2.1</td>\n",
       "      <td>29/Jan/2018</td>\n",
       "      <td>GET /login.php HTTP/1.1</td>\n",
       "      <td>200</td>\n",
       "    </tr>\n",
       "    <tr>\n",
       "      <td>freq</td>\n",
       "      <td>4257</td>\n",
       "      <td>5092</td>\n",
       "      <td>3284</td>\n",
       "      <td>11330</td>\n",
       "    </tr>\n",
       "  </tbody>\n",
       "</table>\n",
       "</div>"
      ],
      "text/plain": [
       "                IP         Time                      URL Status\n",
       "count        16007        16007                    16007  16007\n",
       "unique          16           65                      314     13\n",
       "top     10.128.2.1  29/Jan/2018  GET /login.php HTTP/1.1    200\n",
       "freq          4257         5092                     3284  11330"
      ]
     },
     "execution_count": 7,
     "metadata": {},
     "output_type": "execute_result"
    }
   ],
   "source": [
    "#Verilerdeki frekans tekillik vb ayrımları yapma\n",
    "data['URL']=data['URL'].map(lambda x: x.lstrip('0'))\n",
    "data.describe()"
   ]
  },
  {
   "cell_type": "code",
   "execution_count": 8,
   "metadata": {},
   "outputs": [
    {
     "data": {
      "text/html": [
       "<div>\n",
       "<style scoped>\n",
       "    .dataframe tbody tr th:only-of-type {\n",
       "        vertical-align: middle;\n",
       "    }\n",
       "\n",
       "    .dataframe tbody tr th {\n",
       "        vertical-align: top;\n",
       "    }\n",
       "\n",
       "    .dataframe thead th {\n",
       "        text-align: right;\n",
       "    }\n",
       "</style>\n",
       "<table border=\"1\" class=\"dataframe\">\n",
       "  <thead>\n",
       "    <tr style=\"text-align: right;\">\n",
       "      <th></th>\n",
       "      <th>IP</th>\n",
       "      <th>Time</th>\n",
       "      <th>URL</th>\n",
       "      <th>Status</th>\n",
       "    </tr>\n",
       "  </thead>\n",
       "  <tbody>\n",
       "    <tr>\n",
       "      <td>0</td>\n",
       "      <td>10.128.2.1</td>\n",
       "      <td>29/Nov/2017</td>\n",
       "      <td>GET /login.php HTTP/1.1</td>\n",
       "      <td>200</td>\n",
       "    </tr>\n",
       "    <tr>\n",
       "      <td>1</td>\n",
       "      <td>10.128.2.1</td>\n",
       "      <td>29/Nov/2017</td>\n",
       "      <td>POST /process.php HTTP/1.1</td>\n",
       "      <td>302</td>\n",
       "    </tr>\n",
       "    <tr>\n",
       "      <td>2</td>\n",
       "      <td>10.128.2.1</td>\n",
       "      <td>29/Nov/2017</td>\n",
       "      <td>GET /home.php HTTP/1.1</td>\n",
       "      <td>200</td>\n",
       "    </tr>\n",
       "    <tr>\n",
       "      <td>3</td>\n",
       "      <td>10.131.2.1</td>\n",
       "      <td>29/Nov/2017</td>\n",
       "      <td>GET /js/vendor/moment.min.js HTTP/1.1</td>\n",
       "      <td>200</td>\n",
       "    </tr>\n",
       "    <tr>\n",
       "      <td>4</td>\n",
       "      <td>10.130.2.1</td>\n",
       "      <td>29/Nov/2017</td>\n",
       "      <td>GET /bootstrap-3.3.7/js/bootstrap.js HTTP/1.1</td>\n",
       "      <td>200</td>\n",
       "    </tr>\n",
       "    <tr>\n",
       "      <td>...</td>\n",
       "      <td>...</td>\n",
       "      <td>...</td>\n",
       "      <td>...</td>\n",
       "      <td>...</td>\n",
       "    </tr>\n",
       "    <tr>\n",
       "      <td>16002</td>\n",
       "      <td>10.130.2.1</td>\n",
       "      <td>02/Mar/2018</td>\n",
       "      <td>GET /showcode.php?id=309&amp;nm=ham05 HTTP/1.1</td>\n",
       "      <td>200</td>\n",
       "    </tr>\n",
       "    <tr>\n",
       "      <td>16003</td>\n",
       "      <td>10.130.2.1</td>\n",
       "      <td>02/Mar/2018</td>\n",
       "      <td>GET /allsubmission.php HTTP/1.1</td>\n",
       "      <td>200</td>\n",
       "    </tr>\n",
       "    <tr>\n",
       "      <td>16004</td>\n",
       "      <td>10.130.2.1</td>\n",
       "      <td>02/Mar/2018</td>\n",
       "      <td>GET /showcode.php?id=309&amp;nm=ham05 HTTP/1.1</td>\n",
       "      <td>200</td>\n",
       "    </tr>\n",
       "    <tr>\n",
       "      <td>16005</td>\n",
       "      <td>10.130.2.1</td>\n",
       "      <td>02/Mar/2018</td>\n",
       "      <td>GET /allsubmission.php HTTP/1.1</td>\n",
       "      <td>200</td>\n",
       "    </tr>\n",
       "    <tr>\n",
       "      <td>16006</td>\n",
       "      <td>10.130.2.1</td>\n",
       "      <td>02/Mar/2018</td>\n",
       "      <td>GET /home.php HTTP/1.1</td>\n",
       "      <td>200</td>\n",
       "    </tr>\n",
       "  </tbody>\n",
       "</table>\n",
       "<p>16007 rows × 4 columns</p>\n",
       "</div>"
      ],
      "text/plain": [
       "               IP         Time                                            URL  \\\n",
       "0      10.128.2.1  29/Nov/2017                        GET /login.php HTTP/1.1   \n",
       "1      10.128.2.1  29/Nov/2017                     POST /process.php HTTP/1.1   \n",
       "2      10.128.2.1  29/Nov/2017                         GET /home.php HTTP/1.1   \n",
       "3      10.131.2.1  29/Nov/2017          GET /js/vendor/moment.min.js HTTP/1.1   \n",
       "4      10.130.2.1  29/Nov/2017  GET /bootstrap-3.3.7/js/bootstrap.js HTTP/1.1   \n",
       "...           ...          ...                                            ...   \n",
       "16002  10.130.2.1  02/Mar/2018     GET /showcode.php?id=309&nm=ham05 HTTP/1.1   \n",
       "16003  10.130.2.1  02/Mar/2018                GET /allsubmission.php HTTP/1.1   \n",
       "16004  10.130.2.1  02/Mar/2018     GET /showcode.php?id=309&nm=ham05 HTTP/1.1   \n",
       "16005  10.130.2.1  02/Mar/2018                GET /allsubmission.php HTTP/1.1   \n",
       "16006  10.130.2.1  02/Mar/2018                         GET /home.php HTTP/1.1   \n",
       "\n",
       "      Status  \n",
       "0        200  \n",
       "1        302  \n",
       "2        200  \n",
       "3        200  \n",
       "4        200  \n",
       "...      ...  \n",
       "16002    200  \n",
       "16003    200  \n",
       "16004    200  \n",
       "16005    200  \n",
       "16006    200  \n",
       "\n",
       "[16007 rows x 4 columns]"
      ]
     },
     "execution_count": 8,
     "metadata": {},
     "output_type": "execute_result"
    }
   ],
   "source": [
    "data "
   ]
  },
  {
   "cell_type": "code",
   "execution_count": 9,
   "metadata": {},
   "outputs": [
    {
     "data": {
      "text/plain": [
       "0"
      ]
     },
     "execution_count": 9,
     "metadata": {},
     "output_type": "execute_result"
    }
   ],
   "source": [
    "data.isnull().sum().sum() #boş data kontrolü"
   ]
  },
  {
   "cell_type": "code",
   "execution_count": 10,
   "metadata": {},
   "outputs": [],
   "source": [
    "data['month'] = data['Time'].str.slice(3, 6)\n",
    "data['day'] = data['Time'].str.slice(0, 2)"
   ]
  },
  {
   "cell_type": "code",
   "execution_count": 11,
   "metadata": {},
   "outputs": [
    {
     "data": {
      "text/html": [
       "<div>\n",
       "<style scoped>\n",
       "    .dataframe tbody tr th:only-of-type {\n",
       "        vertical-align: middle;\n",
       "    }\n",
       "\n",
       "    .dataframe tbody tr th {\n",
       "        vertical-align: top;\n",
       "    }\n",
       "\n",
       "    .dataframe thead th {\n",
       "        text-align: right;\n",
       "    }\n",
       "</style>\n",
       "<table border=\"1\" class=\"dataframe\">\n",
       "  <thead>\n",
       "    <tr style=\"text-align: right;\">\n",
       "      <th></th>\n",
       "      <th>IP</th>\n",
       "      <th>Time</th>\n",
       "      <th>URL</th>\n",
       "      <th>Status</th>\n",
       "      <th>month</th>\n",
       "      <th>day</th>\n",
       "    </tr>\n",
       "  </thead>\n",
       "  <tbody>\n",
       "    <tr>\n",
       "      <td>0</td>\n",
       "      <td>10.128.2.1</td>\n",
       "      <td>29/Nov/2017</td>\n",
       "      <td>GET /login.php HTTP/1.1</td>\n",
       "      <td>200</td>\n",
       "      <td>Nov</td>\n",
       "      <td>29</td>\n",
       "    </tr>\n",
       "    <tr>\n",
       "      <td>1</td>\n",
       "      <td>10.128.2.1</td>\n",
       "      <td>29/Nov/2017</td>\n",
       "      <td>POST /process.php HTTP/1.1</td>\n",
       "      <td>302</td>\n",
       "      <td>Nov</td>\n",
       "      <td>29</td>\n",
       "    </tr>\n",
       "    <tr>\n",
       "      <td>2</td>\n",
       "      <td>10.128.2.1</td>\n",
       "      <td>29/Nov/2017</td>\n",
       "      <td>GET /home.php HTTP/1.1</td>\n",
       "      <td>200</td>\n",
       "      <td>Nov</td>\n",
       "      <td>29</td>\n",
       "    </tr>\n",
       "    <tr>\n",
       "      <td>3</td>\n",
       "      <td>10.131.2.1</td>\n",
       "      <td>29/Nov/2017</td>\n",
       "      <td>GET /js/vendor/moment.min.js HTTP/1.1</td>\n",
       "      <td>200</td>\n",
       "      <td>Nov</td>\n",
       "      <td>29</td>\n",
       "    </tr>\n",
       "    <tr>\n",
       "      <td>4</td>\n",
       "      <td>10.130.2.1</td>\n",
       "      <td>29/Nov/2017</td>\n",
       "      <td>GET /bootstrap-3.3.7/js/bootstrap.js HTTP/1.1</td>\n",
       "      <td>200</td>\n",
       "      <td>Nov</td>\n",
       "      <td>29</td>\n",
       "    </tr>\n",
       "    <tr>\n",
       "      <td>...</td>\n",
       "      <td>...</td>\n",
       "      <td>...</td>\n",
       "      <td>...</td>\n",
       "      <td>...</td>\n",
       "      <td>...</td>\n",
       "      <td>...</td>\n",
       "    </tr>\n",
       "    <tr>\n",
       "      <td>16002</td>\n",
       "      <td>10.130.2.1</td>\n",
       "      <td>02/Mar/2018</td>\n",
       "      <td>GET /showcode.php?id=309&amp;nm=ham05 HTTP/1.1</td>\n",
       "      <td>200</td>\n",
       "      <td>Mar</td>\n",
       "      <td>02</td>\n",
       "    </tr>\n",
       "    <tr>\n",
       "      <td>16003</td>\n",
       "      <td>10.130.2.1</td>\n",
       "      <td>02/Mar/2018</td>\n",
       "      <td>GET /allsubmission.php HTTP/1.1</td>\n",
       "      <td>200</td>\n",
       "      <td>Mar</td>\n",
       "      <td>02</td>\n",
       "    </tr>\n",
       "    <tr>\n",
       "      <td>16004</td>\n",
       "      <td>10.130.2.1</td>\n",
       "      <td>02/Mar/2018</td>\n",
       "      <td>GET /showcode.php?id=309&amp;nm=ham05 HTTP/1.1</td>\n",
       "      <td>200</td>\n",
       "      <td>Mar</td>\n",
       "      <td>02</td>\n",
       "    </tr>\n",
       "    <tr>\n",
       "      <td>16005</td>\n",
       "      <td>10.130.2.1</td>\n",
       "      <td>02/Mar/2018</td>\n",
       "      <td>GET /allsubmission.php HTTP/1.1</td>\n",
       "      <td>200</td>\n",
       "      <td>Mar</td>\n",
       "      <td>02</td>\n",
       "    </tr>\n",
       "    <tr>\n",
       "      <td>16006</td>\n",
       "      <td>10.130.2.1</td>\n",
       "      <td>02/Mar/2018</td>\n",
       "      <td>GET /home.php HTTP/1.1</td>\n",
       "      <td>200</td>\n",
       "      <td>Mar</td>\n",
       "      <td>02</td>\n",
       "    </tr>\n",
       "  </tbody>\n",
       "</table>\n",
       "<p>16007 rows × 6 columns</p>\n",
       "</div>"
      ],
      "text/plain": [
       "               IP         Time                                            URL  \\\n",
       "0      10.128.2.1  29/Nov/2017                        GET /login.php HTTP/1.1   \n",
       "1      10.128.2.1  29/Nov/2017                     POST /process.php HTTP/1.1   \n",
       "2      10.128.2.1  29/Nov/2017                         GET /home.php HTTP/1.1   \n",
       "3      10.131.2.1  29/Nov/2017          GET /js/vendor/moment.min.js HTTP/1.1   \n",
       "4      10.130.2.1  29/Nov/2017  GET /bootstrap-3.3.7/js/bootstrap.js HTTP/1.1   \n",
       "...           ...          ...                                            ...   \n",
       "16002  10.130.2.1  02/Mar/2018     GET /showcode.php?id=309&nm=ham05 HTTP/1.1   \n",
       "16003  10.130.2.1  02/Mar/2018                GET /allsubmission.php HTTP/1.1   \n",
       "16004  10.130.2.1  02/Mar/2018     GET /showcode.php?id=309&nm=ham05 HTTP/1.1   \n",
       "16005  10.130.2.1  02/Mar/2018                GET /allsubmission.php HTTP/1.1   \n",
       "16006  10.130.2.1  02/Mar/2018                         GET /home.php HTTP/1.1   \n",
       "\n",
       "      Status month day  \n",
       "0        200   Nov  29  \n",
       "1        302   Nov  29  \n",
       "2        200   Nov  29  \n",
       "3        200   Nov  29  \n",
       "4        200   Nov  29  \n",
       "...      ...   ...  ..  \n",
       "16002    200   Mar  02  \n",
       "16003    200   Mar  02  \n",
       "16004    200   Mar  02  \n",
       "16005    200   Mar  02  \n",
       "16006    200   Mar  02  \n",
       "\n",
       "[16007 rows x 6 columns]"
      ]
     },
     "execution_count": 11,
     "metadata": {},
     "output_type": "execute_result"
    }
   ],
   "source": [
    "data"
   ]
  },
  {
   "cell_type": "code",
   "execution_count": 12,
   "metadata": {},
   "outputs": [],
   "source": [
    "#Url kısmını method ve hedef sayfa olarak ayrımı\n",
    "data['Methods'] = data['URL'].str.split('/').str[0]\n",
    "\n",
    "if data['URL'].str.contains('.php').any():\n",
    "    data['URL_new'] = data['URL'].str.split('/').str[1]\n",
    "elif data['URL'].str.contains('.js').any():\n",
    "    data['URL_new'] = data['URL'].str.split('/').str[3]\n",
    "data['URL_new'] = data['URL_new'].str.split('HTTP')"
   ]
  },
  {
   "cell_type": "code",
   "execution_count": 13,
   "metadata": {},
   "outputs": [
    {
     "data": {
      "text/html": [
       "<div>\n",
       "<style scoped>\n",
       "    .dataframe tbody tr th:only-of-type {\n",
       "        vertical-align: middle;\n",
       "    }\n",
       "\n",
       "    .dataframe tbody tr th {\n",
       "        vertical-align: top;\n",
       "    }\n",
       "\n",
       "    .dataframe thead th {\n",
       "        text-align: right;\n",
       "    }\n",
       "</style>\n",
       "<table border=\"1\" class=\"dataframe\">\n",
       "  <thead>\n",
       "    <tr style=\"text-align: right;\">\n",
       "      <th></th>\n",
       "      <th>IP</th>\n",
       "      <th>Time</th>\n",
       "      <th>URL</th>\n",
       "      <th>Status</th>\n",
       "      <th>month</th>\n",
       "      <th>day</th>\n",
       "      <th>Methods</th>\n",
       "      <th>URL_new</th>\n",
       "    </tr>\n",
       "  </thead>\n",
       "  <tbody>\n",
       "    <tr>\n",
       "      <td>0</td>\n",
       "      <td>10.128.2.1</td>\n",
       "      <td>29/Nov/2017</td>\n",
       "      <td>GET /login.php HTTP/1.1</td>\n",
       "      <td>200</td>\n",
       "      <td>Nov</td>\n",
       "      <td>29</td>\n",
       "      <td>GET</td>\n",
       "      <td>[login.php , ]</td>\n",
       "    </tr>\n",
       "    <tr>\n",
       "      <td>1</td>\n",
       "      <td>10.128.2.1</td>\n",
       "      <td>29/Nov/2017</td>\n",
       "      <td>POST /process.php HTTP/1.1</td>\n",
       "      <td>302</td>\n",
       "      <td>Nov</td>\n",
       "      <td>29</td>\n",
       "      <td>POST</td>\n",
       "      <td>[process.php , ]</td>\n",
       "    </tr>\n",
       "    <tr>\n",
       "      <td>2</td>\n",
       "      <td>10.128.2.1</td>\n",
       "      <td>29/Nov/2017</td>\n",
       "      <td>GET /home.php HTTP/1.1</td>\n",
       "      <td>200</td>\n",
       "      <td>Nov</td>\n",
       "      <td>29</td>\n",
       "      <td>GET</td>\n",
       "      <td>[home.php , ]</td>\n",
       "    </tr>\n",
       "    <tr>\n",
       "      <td>3</td>\n",
       "      <td>10.131.2.1</td>\n",
       "      <td>29/Nov/2017</td>\n",
       "      <td>GET /js/vendor/moment.min.js HTTP/1.1</td>\n",
       "      <td>200</td>\n",
       "      <td>Nov</td>\n",
       "      <td>29</td>\n",
       "      <td>GET</td>\n",
       "      <td>[js]</td>\n",
       "    </tr>\n",
       "    <tr>\n",
       "      <td>4</td>\n",
       "      <td>10.130.2.1</td>\n",
       "      <td>29/Nov/2017</td>\n",
       "      <td>GET /bootstrap-3.3.7/js/bootstrap.js HTTP/1.1</td>\n",
       "      <td>200</td>\n",
       "      <td>Nov</td>\n",
       "      <td>29</td>\n",
       "      <td>GET</td>\n",
       "      <td>[bootstrap-3.3.7]</td>\n",
       "    </tr>\n",
       "    <tr>\n",
       "      <td>...</td>\n",
       "      <td>...</td>\n",
       "      <td>...</td>\n",
       "      <td>...</td>\n",
       "      <td>...</td>\n",
       "      <td>...</td>\n",
       "      <td>...</td>\n",
       "      <td>...</td>\n",
       "      <td>...</td>\n",
       "    </tr>\n",
       "    <tr>\n",
       "      <td>16002</td>\n",
       "      <td>10.130.2.1</td>\n",
       "      <td>02/Mar/2018</td>\n",
       "      <td>GET /showcode.php?id=309&amp;nm=ham05 HTTP/1.1</td>\n",
       "      <td>200</td>\n",
       "      <td>Mar</td>\n",
       "      <td>02</td>\n",
       "      <td>GET</td>\n",
       "      <td>[showcode.php?id=309&amp;nm=ham05 , ]</td>\n",
       "    </tr>\n",
       "    <tr>\n",
       "      <td>16003</td>\n",
       "      <td>10.130.2.1</td>\n",
       "      <td>02/Mar/2018</td>\n",
       "      <td>GET /allsubmission.php HTTP/1.1</td>\n",
       "      <td>200</td>\n",
       "      <td>Mar</td>\n",
       "      <td>02</td>\n",
       "      <td>GET</td>\n",
       "      <td>[allsubmission.php , ]</td>\n",
       "    </tr>\n",
       "    <tr>\n",
       "      <td>16004</td>\n",
       "      <td>10.130.2.1</td>\n",
       "      <td>02/Mar/2018</td>\n",
       "      <td>GET /showcode.php?id=309&amp;nm=ham05 HTTP/1.1</td>\n",
       "      <td>200</td>\n",
       "      <td>Mar</td>\n",
       "      <td>02</td>\n",
       "      <td>GET</td>\n",
       "      <td>[showcode.php?id=309&amp;nm=ham05 , ]</td>\n",
       "    </tr>\n",
       "    <tr>\n",
       "      <td>16005</td>\n",
       "      <td>10.130.2.1</td>\n",
       "      <td>02/Mar/2018</td>\n",
       "      <td>GET /allsubmission.php HTTP/1.1</td>\n",
       "      <td>200</td>\n",
       "      <td>Mar</td>\n",
       "      <td>02</td>\n",
       "      <td>GET</td>\n",
       "      <td>[allsubmission.php , ]</td>\n",
       "    </tr>\n",
       "    <tr>\n",
       "      <td>16006</td>\n",
       "      <td>10.130.2.1</td>\n",
       "      <td>02/Mar/2018</td>\n",
       "      <td>GET /home.php HTTP/1.1</td>\n",
       "      <td>200</td>\n",
       "      <td>Mar</td>\n",
       "      <td>02</td>\n",
       "      <td>GET</td>\n",
       "      <td>[home.php , ]</td>\n",
       "    </tr>\n",
       "  </tbody>\n",
       "</table>\n",
       "<p>16007 rows × 8 columns</p>\n",
       "</div>"
      ],
      "text/plain": [
       "               IP         Time                                            URL  \\\n",
       "0      10.128.2.1  29/Nov/2017                        GET /login.php HTTP/1.1   \n",
       "1      10.128.2.1  29/Nov/2017                     POST /process.php HTTP/1.1   \n",
       "2      10.128.2.1  29/Nov/2017                         GET /home.php HTTP/1.1   \n",
       "3      10.131.2.1  29/Nov/2017          GET /js/vendor/moment.min.js HTTP/1.1   \n",
       "4      10.130.2.1  29/Nov/2017  GET /bootstrap-3.3.7/js/bootstrap.js HTTP/1.1   \n",
       "...           ...          ...                                            ...   \n",
       "16002  10.130.2.1  02/Mar/2018     GET /showcode.php?id=309&nm=ham05 HTTP/1.1   \n",
       "16003  10.130.2.1  02/Mar/2018                GET /allsubmission.php HTTP/1.1   \n",
       "16004  10.130.2.1  02/Mar/2018     GET /showcode.php?id=309&nm=ham05 HTTP/1.1   \n",
       "16005  10.130.2.1  02/Mar/2018                GET /allsubmission.php HTTP/1.1   \n",
       "16006  10.130.2.1  02/Mar/2018                         GET /home.php HTTP/1.1   \n",
       "\n",
       "      Status month day Methods                            URL_new  \n",
       "0        200   Nov  29    GET                      [login.php , ]  \n",
       "1        302   Nov  29   POST                    [process.php , ]  \n",
       "2        200   Nov  29    GET                       [home.php , ]  \n",
       "3        200   Nov  29    GET                                [js]  \n",
       "4        200   Nov  29    GET                   [bootstrap-3.3.7]  \n",
       "...      ...   ...  ..     ...                                ...  \n",
       "16002    200   Mar  02    GET   [showcode.php?id=309&nm=ham05 , ]  \n",
       "16003    200   Mar  02    GET              [allsubmission.php , ]  \n",
       "16004    200   Mar  02    GET   [showcode.php?id=309&nm=ham05 , ]  \n",
       "16005    200   Mar  02    GET              [allsubmission.php , ]  \n",
       "16006    200   Mar  02    GET                       [home.php , ]  \n",
       "\n",
       "[16007 rows x 8 columns]"
      ]
     },
     "execution_count": 13,
     "metadata": {},
     "output_type": "execute_result"
    }
   ],
   "source": [
    "data"
   ]
  },
  {
   "cell_type": "code",
   "execution_count": 24,
   "metadata": {},
   "outputs": [
    {
     "data": {
      "text/plain": [
       "Text(0.5, 1.0, 'Metotlara Göre Dağılım')"
      ]
     },
     "execution_count": 24,
     "metadata": {},
     "output_type": "execute_result"
    },
    {
     "data": {
      "image/png": "[encoded data removed]",
      "text/plain": [
       "<Figure size 1296x504 with 1 Axes>"
      ]
     },
     "metadata": {
      "needs_background": "light"
     },
     "output_type": "display_data"
    }
   ],
   "source": [
    "plt.rcParams['figure.figsize'] = (18, 7)\n",
    "\n",
    "color = plt.cm.copper(np.linspace(0, 1, 40))\n",
    "data['Methods'].value_counts().plot.bar(color = \"red\")\n",
    "plt.title('Metotlara Göre Dağılım', fontsize = 20)"
   ]
  },
  {
   "cell_type": "code",
   "execution_count": 21,
   "metadata": {},
   "outputs": [
    {
     "data": {
      "text/plain": [
       "Text(0.5, 1.0, 'Kullanıcı tarafındaki en popüler url adresleri')"
      ]
     },
     "execution_count": 21,
     "metadata": {},
     "output_type": "execute_result"
    },
    {
     "data": {
      "image/png": "[encoded data removed]",
      "text/plain": [
       "<Figure size 1296x504 with 1 Axes>"
      ]
     },
     "metadata": {
      "needs_background": "light"
     },
     "output_type": "display_data"
    }
   ],
   "source": [
    "#ilk plottingde sıkıntı çıkardığı için ilk 40 veriyi aldım.\n",
    "plt.rcParams['figure.figsize'] = (18, 7)\n",
    "\n",
    "color = plt.cm.copper(np.linspace(0, 1, 40))\n",
    "data['URL_new'].value_counts().head(40).plot.bar(color = color)\n",
    "plt.title('Hedef url adresleri', fontsize = 20)"
   ]
  },
  {
   "cell_type": "code",
   "execution_count": 16,
   "metadata": {},
   "outputs": [
    {
     "data": {
      "text/plain": [
       "Text(0.5, 1.0, 'Aylara göre giriş dağılımları')"
      ]
     },
     "execution_count": 16,
     "metadata": {},
     "output_type": "execute_result"
    },
    {
     "data": {
      "image/png": "[encoded data removed]",
      "text/plain": [
       "<Figure size 1296x504 with 1 Axes>"
      ]
     },
     "metadata": {
      "needs_background": "light"
     },
     "output_type": "display_data"
    }
   ],
   "source": [
    "plt.rcParams['figure.figsize'] = (18, 7)\n",
    "\n",
    "color = plt.cm.copper(np.linspace(0, 1, 40))\n",
    "data['month'].value_counts().plot.bar(color = 'cyan')\n",
    "plt.title('Aylara göre giriş dağılımları', fontsize = 20)"
   ]
  },
  {
   "cell_type": "code",
   "execution_count": 17,
   "metadata": {},
   "outputs": [
    {
     "data": {
      "text/plain": [
       "Text(0.5, 1.0, 'Döndürülen statülere göre dağılım')"
      ]
     },
     "execution_count": 17,
     "metadata": {},
     "output_type": "execute_result"
    },
    {
     "data": {
      "image/png": "[encoded data removed]",
      "text/plain": [
       "<Figure size 1296x504 with 1 Axes>"
      ]
     },
     "metadata": {
      "needs_background": "light"
     },
     "output_type": "display_data"
    }
   ],
   "source": [
    "plt.rcParams['figure.figsize'] = (18, 7)\n",
    "\n",
    "color = plt.cm.Wistia(np.linspace(0, 1, 40))\n",
    "data['Status'].value_counts().plot.bar(color = 'seagreen')\n",
    "plt.title('Döndürülen statülere göre dağılım', fontsize = 20)"
   ]
  },
  {
   "cell_type": "code",
   "execution_count": 18,
   "metadata": {},
   "outputs": [
    {
     "data": {
      "text/plain": [
       "Text(0.5, 1.0, \"Ip'lere göre dağılım\")"
      ]
     },
     "execution_count": 18,
     "metadata": {},
     "output_type": "execute_result"
    },
    {
     "data": {
      "image/png": "[encoded data removed]",
      "text/plain": [
       "<Figure size 1296x504 with 1 Axes>"
      ]
     },
     "metadata": {
      "needs_background": "light"
     },
     "output_type": "display_data"
    }
   ],
   "source": [
    "plt.rcParams['figure.figsize'] = (18, 7)\n",
    "\n",
    "color = plt.cm.Wistia(np.linspace(0, 1, 40))\n",
    "data['IP'].value_counts().plot.bar(color = 'seagreen')\n",
    "plt.title('Ip\\'lere göre dağılım', fontsize = 20)"
   ]
  },
  {
   "cell_type": "code",
   "execution_count": null,
   "metadata": {},
   "outputs": [],
   "source": [
    "plt.rcParams['figure.figsize'] = (18, 7)\n",
    "\n",
    "color = p_lt.cm.Wistia(np.linspace(0, 1, 40))\n",
    "data['URL_new'].value_counts().plot.bar(color = 'seagreen')\n",
    "plt.title('Hedef sayfalara göre dağılım', fontsize = 20)"
   ]
  }
 ],
 "metadata": {
  "kernelspec": {
   "display_name": "Python 3",
   "language": "python",
   "name": "python3"
  }
 },
 "nbformat": 4,
 "nbformat_minor": 2
}
